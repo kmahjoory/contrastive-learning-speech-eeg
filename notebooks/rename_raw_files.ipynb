{
 "cells": [
  {
   "cell_type": "code",
   "execution_count": 1,
   "metadata": {},
   "outputs": [],
   "source": [
    "import os, sys\n",
    "import numpy as np\n",
    "import matplotlib\n",
    "import matplotlib.pyplot as plt\n",
    "\n",
    "import mne\n",
    "\n",
    "from scipy.io import loadmat\n",
    "import shutil"
   ]
  },
  {
   "cell_type": "code",
   "execution_count": 4,
   "metadata": {},
   "outputs": [],
   "source": [
    "subj_ids = range(2, 10)\n",
    "write_path = \"../../outputs/rochester_data/natural_speech/\"\n",
    "\n",
    "\n"
   ]
  },
  {
   "cell_type": "code",
   "execution_count": 7,
   "metadata": {},
   "outputs": [
    {
     "name": "stdout",
     "output_type": "stream",
     "text": [
      "5\n",
      "Opening raw data file ../../outputs/rochester_data/natural_speech/subj_5/after_ica_raw.fif...\n",
      "    Range : 0 ... 464571 =      0.000 ...  3629.461 secs\n",
      "Ready.\n",
      "Reading 0 ... 464571  =      0.000 ...  3629.461 secs...\n",
      "Writing /Users/keyvan.mahjoory/k1_analyses/prj_neuroread/analysis/codes/EEG/../../outputs/rochester_data/natural_speech/subj_5/subj_5_after_ica_raw.fif\n",
      "Closing /Users/keyvan.mahjoory/k1_analyses/prj_neuroread/analysis/codes/EEG/../../outputs/rochester_data/natural_speech/subj_5/subj_5_after_ica_raw.fif\n",
      "[done]\n"
     ]
    }
   ],
   "source": [
    "for subj_id in [5]:#subj_ids:\n",
    "\n",
    "    print(subj_id)\n",
    "    subj_name = f'subj_{subj_id}'\n",
    "    subj_dir = os.path.join(write_path, subj_name)\n",
    "    raw = mne.io.read_raw(os.path.join(subj_dir, 'after_ica_raw.fif'), preload=True)\n",
    "    raw.save(fname=f\"{subj_dir}/subj_{subj_id}_after_ica_raw.fif\")\n",
    "    del raw\n",
    "\n",
    "\n",
    "\n",
    "\n"
   ]
  },
  {
   "cell_type": "code",
   "execution_count": 12,
   "metadata": {},
   "outputs": [],
   "source": [
    "# Store all after Ica files in a folder\n",
    "subj_ids = range(1, 11)\n",
    "for subj_id in subj_ids:\n",
    "    subj_name = f'subj_{subj_id}'\n",
    "    subj_dir = os.path.join(write_path, subj_name)  \n",
    "    shutil.copy(f\"{subj_dir}/subj_{subj_id}_after_ica_raw.fif\", f\"{write_path}after_ica_raw/\")\n",
    "\n"
   ]
  },
  {
   "cell_type": "code",
   "execution_count": 2,
   "metadata": {},
   "outputs": [
    {
     "name": "stdout",
     "output_type": "stream",
     "text": [
      "1\n",
      "Opening raw data file ../../outputs/rochester_data/cocktail_party/subj_1/after_ica_raw.fif...\n",
      "    Range : 0 ... 222728 =      0.000 ...  1740.062 secs\n",
      "Ready.\n",
      "Reading 0 ... 222728  =      0.000 ...  1740.062 secs...\n",
      "Writing /Users/keyvan.mahjoory/k1_analyses/prj_neuroread/analysis/codes/EEG/../../outputs/rochester_data/cocktail_party/after_ica_raw/subj_1_after_ica_raw.fif\n",
      "Closing /Users/keyvan.mahjoory/k1_analyses/prj_neuroread/analysis/codes/EEG/../../outputs/rochester_data/cocktail_party/after_ica_raw/subj_1_after_ica_raw.fif\n",
      "[done]\n"
     ]
    }
   ],
   "source": [
    "# cocktail party\n",
    "\n",
    "write_path = \"../../outputs/rochester_data/cocktail_party/\"\n",
    "\n",
    "for subj_id in [1]:#subj_ids:\n",
    "\n",
    "    print(subj_id)\n",
    "    subj_name = f'subj_{subj_id}'\n",
    "    subj_dir = os.path.join(write_path, subj_name)\n",
    "    after_ica_dir = os.path.join(write_path, 'after_ica_raw')\n",
    "    raw = mne.io.read_raw(os.path.join(subj_dir, 'after_ica_raw.fif'), preload=True)\n",
    "    raw.save(fname=f\"{after_ica_dir}/subj_{subj_id}_after_ica_raw.fif\")\n",
    "    del raw\n"
   ]
  },
  {
   "cell_type": "code",
   "execution_count": null,
   "metadata": {},
   "outputs": [],
   "source": [
    "# Store all after Ica files in a folder, cocktail party\n",
    "subj_ids = range(1, 2)\n",
    "for subj_id in subj_ids:\n",
    "    subj_name = f'subj_{subj_id}'\n",
    "    subj_dir = os.path.join(write_path, subj_name)  \n",
    "    shutil.copy(f\"{subj_dir}/subj_{subj_id}_after_ica_raw.fif\", f\"{write_path}after_ica_raw/\")"
   ]
  }
 ],
 "metadata": {
  "kernelspec": {
   "display_name": "mne",
   "language": "python",
   "name": "python3"
  },
  "language_info": {
   "codemirror_mode": {
    "name": "ipython",
    "version": 3
   },
   "file_extension": ".py",
   "mimetype": "text/x-python",
   "name": "python",
   "nbconvert_exporter": "python",
   "pygments_lexer": "ipython3",
   "version": "3.10.8"
  },
  "orig_nbformat": 4,
  "vscode": {
   "interpreter": {
    "hash": "8e19e54895c02f0e9343d0fbd6cee45458aaf6f05de9ab3004d10bba5525a5d0"
   }
  }
 },
 "nbformat": 4,
 "nbformat_minor": 2
}
